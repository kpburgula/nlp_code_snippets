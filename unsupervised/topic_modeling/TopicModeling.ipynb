{
  "nbformat": 4,
  "nbformat_minor": 0,
  "metadata": {
    "colab": {
      "name": "TopicModeling",
      "provenance": []
    },
    "kernelspec": {
      "name": "python3",
      "display_name": "Python 3"
    },
    "language_info": {
      "name": "python"
    }
  },
  "cells": [
    {
      "cell_type": "code",
      "metadata": {
        "colab": {
          "base_uri": "https://localhost:8080/"
        },
        "id": "2fsFlZdHqoHj",
        "outputId": "4f0e0ad8-21fc-426d-c016-b74971c8579c"
      },
      "source": [
        "from sklearn.datasets import fetch_20newsgroups\n",
        "from sklearn.manifold import TSNE\n",
        "from sklearn.feature_extraction import stop_words\n",
        "from sklearn.feature_extraction.text import CountVectorizer, TfidfVectorizer\n",
        "import matplotlib.pyplot as plt\n",
        "from collections import Counter\n",
        "from sklearn.decomposition import NMF, LatentDirichletAllocation\n",
        "\n",
        "# Load the preprocessed data\n",
        "categories = [\"sci.space\",\"talk.politics.guns\",\"rec.motorcycles\", \"comp.graphics\",\"misc.forsale\"]\n",
        "groups = fetch_20newsgroups(categories = categories)\n",
        "labels = groups.target\n",
        "label_names = groups.target_names"
      ],
      "execution_count": 1,
      "outputs": [
        {
          "output_type": "stream",
          "text": [
            "/usr/local/lib/python3.7/dist-packages/sklearn/utils/deprecation.py:144: FutureWarning: The sklearn.feature_extraction.stop_words module is  deprecated in version 0.22 and will be removed in version 0.24. The corresponding classes / functions should instead be imported from sklearn.feature_extraction.text. Anything that cannot be imported from sklearn.feature_extraction.text is now part of the private API.\n",
            "  warnings.warn(message, FutureWarning)\n"
          ],
          "name": "stderr"
        }
      ]
    },
    {
      "cell_type": "code",
      "metadata": {
        "colab": {
          "base_uri": "https://localhost:8080/"
        },
        "id": "zgGnKWWZrF1l",
        "outputId": "b4778cea-a51a-4717-904d-4280e602420b"
      },
      "source": [
        "# Use the vectorizer to fit the data\n",
        "tfidf = TfidfVectorizer(stop_words=\"english\", max_features=500)\n",
        "data = tfidf.fit_transform(groups.data)\n",
        "# Fit the data\n",
        "t = 5\n",
        "nmf = NMF(n_components=t, random_state=42)\n",
        "nmf.fit(data)\n",
        "terms = tfidf.get_feature_names()\n",
        "for topic_idx, topic in enumerate(nmf.components_):\n",
        "    print(\"Topic {}:\" .format(topic_idx))\n",
        "    print(\" \".join([terms[i] for i in topic.argsort()[-10:]]))"
      ],
      "execution_count": 2,
      "outputs": [
        {
          "output_type": "stream",
          "text": [
            "Topic 0:\n",
            "lines organization hp ca sun dod article writes bike com\n",
            "Topic 1:\n",
            "cs organization lines subject host nntp posting university sale edu\n",
            "Topic 2:\n",
            "henry shuttle jpl orbit access alaska moon gov nasa space\n",
            "Topic 3:\n",
            "like weapons firearms just think edu don guns people gun\n",
            "Topic 4:\n",
            "thanks version windows file image files ca ac graphics uk\n"
          ],
          "name": "stdout"
        }
      ]
    },
    {
      "cell_type": "code",
      "metadata": {
        "colab": {
          "base_uri": "https://localhost:8080/"
        },
        "id": "hprlC2870GRg",
        "outputId": "07504379-56de-4780-fc81-1889eaf960c1"
      },
      "source": [
        "# Use the count vectorizer to fit the data\n",
        "count = CountVectorizer(stop_words=\"english\", max_features=500)\n",
        "data = count.fit_transform(groups.data)\n",
        "# Fit the data\n",
        "t = 5\n",
        "lda = LatentDirichletAllocation(n_components=t, learning_method='batch',random_state=42)\n",
        "lda.fit(data)\n",
        "terms = count.get_feature_names()\n",
        "for topic_idx, topic in enumerate(lda.components_):\n",
        "    print(\"Topic {}:\" .format(topic_idx))\n",
        "    print(\" \".join([terms[i] for i in topic.argsort()[-10:]]))"
      ],
      "execution_count": 3,
      "outputs": [
        {
          "output_type": "stream",
          "text": [
            "Topic 0:\n",
            "version use university software image organization graphics subject lines edu\n",
            "Topic 1:\n",
            "20 new 15 50 data file nasa 10 00 space\n",
            "Topic 2:\n",
            "firearms weapons law think don guns com edu people gun\n",
            "Topic 3:\n",
            "host nntp posting article writes organization lines subject com edu\n",
            "Topic 4:\n",
            "just article writes lines gov subject organization nasa space edu\n"
          ],
          "name": "stdout"
        }
      ]
    }
  ]
}